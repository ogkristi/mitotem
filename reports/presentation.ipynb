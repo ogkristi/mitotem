{
 "cells": [
  {
   "attachments": {},
   "cell_type": "markdown",
   "metadata": {
    "slideshow": {
     "slide_type": "slide"
    }
   },
   "source": [
    "## How others did it\n",
    "- IEEE International Symposium on Biomedical Imaging 2021 challenge: Large-scale 3D Mitochondria Instance Segmentation\n",
    "<img src=\"figures/isbi.png\" style=\"width:80%\"/>"
   ]
  },
  {
   "cell_type": "markdown",
   "metadata": {
    "slideshow": {
     "slide_type": "slide"
    },
    "tags": []
   },
   "source": [
    "## Multilayer perceptron\n",
    "$\\hat{y} = \\mathbf{w}^\\top\\mathbf{x} + b$"
   ]
  },
  {
   "cell_type": "markdown",
   "metadata": {
    "slideshow": {
     "slide_type": "slide"
    }
   },
   "source": [
    "## Loss function\n",
    "- Dissimilarity measure between model prediction and target\n",
    "- Squared error in regression problems: $l(\\mathbf{w},b) = \\frac{1}{2} (\\hat{y} - y)^2$"
   ]
  },
  {
   "cell_type": "markdown",
   "metadata": {
    "slideshow": {
     "slide_type": "slide"
    }
   },
   "source": [
    "## Optimization\n",
    "- Finding parameters that minimize the loss function: $\\mathbf{w}^{*},b^{*} = \\underset{\\mathbf{w},b}{\\operatorname{argmin}} L(\\mathbf{w},b)$\n",
    "- Various flavors of gradient descent\n",
    "- In a nutshell, parameters are updated in the direction of the negative gradient by step size $\\eta$ (learning rate): $$(\\mathbf{w},b) \\gets (\\mathbf{w},b) - \\eta \\nabla L(\\mathbf{w},b)$$"
   ]
  }
 ],
 "metadata": {
  "celltoolbar": "Slideshow",
  "kernelspec": {
   "display_name": "Python 3 (ipykernel)",
   "language": "python",
   "name": "python3"
  },
  "language_info": {
   "codemirror_mode": {
    "name": "ipython",
    "version": 3
   },
   "file_extension": ".py",
   "mimetype": "text/x-python",
   "name": "python",
   "nbconvert_exporter": "python",
   "pygments_lexer": "ipython3",
   "version": "3.11.4"
  }
 },
 "nbformat": 4,
 "nbformat_minor": 4
}
